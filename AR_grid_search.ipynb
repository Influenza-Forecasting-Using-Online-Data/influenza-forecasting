{
 "cells": [
  {
   "cell_type": "code",
   "execution_count": 1,
   "metadata": {
    "collapsed": true
   },
   "outputs": [],
   "source": [
    "import pmdarima.arima\n",
    "from pmdarima.arima import auto_arima\n",
    "\n",
    "import matplotlib.pyplot as plt\n",
    "import pandas as pd\n",
    "import seaborn as sns\n",
    "from statsmodels.tsa.statespace.sarimax import SARIMAX\n",
    "\n",
    "from data.utils import get_week_range_df, to_week_range\n",
    "from models.ar_model import ARModelSpecification, create_ar_models_report\n",
    "from models.persistence_model import create_persistence\n",
    "\n",
    "# Global set-up\n",
    "pd.options.mode.chained_assignment = None  # default='warn'\n",
    "plt.rcParams['axes.grid'] = True\n",
    "sns.set_style(\"whitegrid\")\n",
    "\n",
    "# Global set-up\n",
    "pd.options.mode.chained_assignment = None  # default='warn'\n",
    "plt.rcParams['axes.grid'] = True\n",
    "sns.set_style(\"whitegrid\")"
   ]
  },
  {
   "cell_type": "code",
   "execution_count": 2,
   "outputs": [],
   "source": [
    "GROUND_TRUTH_COLUMN = 'Disease Rate'\n",
    "BASELINE_SHIFT = 1\n",
    "PERSISTENCE_COL_NAME = 'Persistence'\n",
    "LAGS = 20"
   ],
   "metadata": {
    "collapsed": false,
    "pycharm": {
     "name": "#%%\n"
    }
   }
  },
  {
   "cell_type": "code",
   "execution_count": 3,
   "outputs": [],
   "source": [
    "DF = get_week_range_df('week range')\n",
    "DF = create_persistence(DF, BASELINE_SHIFT, persistance_col_name=PERSISTENCE_COL_NAME)"
   ],
   "metadata": {
    "collapsed": false,
    "pycharm": {
     "name": "#%%\n"
    }
   }
  },
  {
   "cell_type": "code",
   "execution_count": 4,
   "outputs": [],
   "source": [
    "train_interval = (to_week_range(2004, 2), to_week_range(2008, 52))\n",
    "test_interval = [to_week_range(2009, 1), to_week_range(2009, 52)]"
   ],
   "metadata": {
    "collapsed": false,
    "pycharm": {
     "name": "#%%\n"
    }
   }
  },
  {
   "cell_type": "code",
   "execution_count": 5,
   "outputs": [
    {
     "name": "stdout",
     "output_type": "stream",
     "text": [
      "# training windows = 10\n",
      "# testing windows = 10\n"
     ]
    }
   ],
   "source": [
    "TRAIN_INTERVALS = [(to_week_range(2004, 2), to_week_range(2008, 52)),\n",
    "                   (to_week_range(2005, 1), to_week_range(2009, 52)),\n",
    "                   (to_week_range(2006, 2), to_week_range(2010, 52)),\n",
    "                   (to_week_range(2007, 2), to_week_range(2011, 52)),\n",
    "                   (to_week_range(2008, 2), to_week_range(2012, 52)),\n",
    "                   (to_week_range(2009, 2), to_week_range(2013, 52)),\n",
    "                   (to_week_range(2010, 2), to_week_range(2014, 52)),\n",
    "                   (to_week_range(2011, 2), to_week_range(2015, 52)),\n",
    "                   (to_week_range(2012, 2), to_week_range(2016, 52)),\n",
    "                   (to_week_range(2013, 2), to_week_range(2017, 52)),\n",
    "                   ]\n",
    "print('# training windows = %d' % len(TRAIN_INTERVALS))\n",
    "\n",
    "TEST_INTERVALS = [(to_week_range(2009, 1), to_week_range(2009, 52)),\n",
    "                  (to_week_range(2010, 1), to_week_range(2010, 52)),\n",
    "                  (to_week_range(2011, 2), to_week_range(2011, 52)),\n",
    "                  (to_week_range(2012, 2), to_week_range(2012, 52)),\n",
    "                  (to_week_range(2013, 2), to_week_range(2013, 52)),\n",
    "                  (to_week_range(2014, 2), to_week_range(2014, 52)),\n",
    "                  (to_week_range(2015, 2), to_week_range(2015, 52)),\n",
    "                  (to_week_range(2016, 2), to_week_range(2016, 52)),\n",
    "                  (to_week_range(2017, 2), to_week_range(2017, 52)),\n",
    "                  (to_week_range(2018, 2), to_week_range(2018, 52)),\n",
    "                  ]\n",
    "print('# testing windows = %d' % len(TEST_INTERVALS))"
   ],
   "metadata": {
    "collapsed": false,
    "pycharm": {
     "name": "#%%\n"
    }
   }
  },
  {
   "cell_type": "code",
   "execution_count": 31,
   "outputs": [],
   "source": [
    "def try_intervals(output_path, test_type, start_p, start_q, max_p, max_q, d, seasonality, start_P, start_Q, max_P, max_Q, D, trace, error_action, stepwise, n_fits, n_jobs, maxiter):\n",
    "    import contextlib\n",
    "    with open(output_path, 'w') as f:\n",
    "        with contextlib.redirect_stdout(f):\n",
    "            if seasonality:\n",
    "                print('Seasonality:' + seasonality)\n",
    "            print('Start INTERVALS: \\n\\n\\n')\n",
    "            for (begin, end) in TRAIN_INTERVALS:\n",
    "                model = auto_arima(y=DF[GROUND_TRUTH_COLUMN][begin:end], start_p=start_p, start_q=start_q,\n",
    "                                   test=test_type,\n",
    "                                   max_p=max_p, max_q=max_q,\n",
    "                                   seasonal=seasonality,\n",
    "                                   m=52,\n",
    "                                   d=d,\n",
    "                                   start_P=start_P,\n",
    "                                   max_P=max_P,\n",
    "                                   start_Q=start_Q,\n",
    "                                   max_Q=max_Q,\n",
    "                                   D=D,\n",
    "                                   trace=trace,\n",
    "                                   error_action=error_action,\n",
    "                                   suppress_warnings=True,\n",
    "                                   stepwise=stepwise,\n",
    "                                   n_fits=n_fits,\n",
    "                                   n_jobs=n_jobs,\n",
    "                                   maxiter=maxiter)\n",
    "                print(str(begin) + \"  --->  \" + str(end))\n",
    "                print('\\n\\n')\n",
    "            print('End INTERVALS.')"
   ],
   "metadata": {
    "collapsed": false,
    "pycharm": {
     "name": "#%%\n"
    }
   }
  },
  {
   "cell_type": "code",
   "execution_count": 35,
   "outputs": [
    {
     "name": "stderr",
     "output_type": "stream",
     "text": [
      "C:\\ProgramData\\Anaconda3\\lib\\site-packages\\pmdarima\\arima\\_validation.py:62: UserWarning: m (52) set for non-seasonal fit. Setting to 0\n",
      "  warnings.warn(\"m (%i) set for non-seasonal fit. Setting to 0\" % m)\n",
      "C:\\ProgramData\\Anaconda3\\lib\\site-packages\\pmdarima\\arima\\_validation.py:62: UserWarning: m (52) set for non-seasonal fit. Setting to 0\n",
      "  warnings.warn(\"m (%i) set for non-seasonal fit. Setting to 0\" % m)\n",
      "C:\\ProgramData\\Anaconda3\\lib\\site-packages\\pmdarima\\arima\\_validation.py:62: UserWarning: m (52) set for non-seasonal fit. Setting to 0\n",
      "  warnings.warn(\"m (%i) set for non-seasonal fit. Setting to 0\" % m)\n",
      "C:\\ProgramData\\Anaconda3\\lib\\site-packages\\pmdarima\\arima\\_validation.py:62: UserWarning: m (52) set for non-seasonal fit. Setting to 0\n",
      "  warnings.warn(\"m (%i) set for non-seasonal fit. Setting to 0\" % m)\n",
      "C:\\ProgramData\\Anaconda3\\lib\\site-packages\\pmdarima\\arima\\_validation.py:62: UserWarning: m (52) set for non-seasonal fit. Setting to 0\n",
      "  warnings.warn(\"m (%i) set for non-seasonal fit. Setting to 0\" % m)\n",
      "C:\\ProgramData\\Anaconda3\\lib\\site-packages\\pmdarima\\arima\\_validation.py:62: UserWarning: m (52) set for non-seasonal fit. Setting to 0\n",
      "  warnings.warn(\"m (%i) set for non-seasonal fit. Setting to 0\" % m)\n",
      "C:\\ProgramData\\Anaconda3\\lib\\site-packages\\pmdarima\\arima\\_validation.py:62: UserWarning: m (52) set for non-seasonal fit. Setting to 0\n",
      "  warnings.warn(\"m (%i) set for non-seasonal fit. Setting to 0\" % m)\n",
      "C:\\ProgramData\\Anaconda3\\lib\\site-packages\\pmdarima\\arima\\_validation.py:62: UserWarning: m (52) set for non-seasonal fit. Setting to 0\n",
      "  warnings.warn(\"m (%i) set for non-seasonal fit. Setting to 0\" % m)\n",
      "C:\\ProgramData\\Anaconda3\\lib\\site-packages\\pmdarima\\arima\\_validation.py:62: UserWarning: m (52) set for non-seasonal fit. Setting to 0\n",
      "  warnings.warn(\"m (%i) set for non-seasonal fit. Setting to 0\" % m)\n",
      "C:\\ProgramData\\Anaconda3\\lib\\site-packages\\pmdarima\\arima\\_validation.py:62: UserWarning: m (52) set for non-seasonal fit. Setting to 0\n",
      "  warnings.warn(\"m (%i) set for non-seasonal fit. Setting to 0\" % m)\n",
      "C:\\ProgramData\\Anaconda3\\lib\\site-packages\\pmdarima\\arima\\_validation.py:62: UserWarning: m (52) set for non-seasonal fit. Setting to 0\n",
      "  warnings.warn(\"m (%i) set for non-seasonal fit. Setting to 0\" % m)\n",
      "C:\\ProgramData\\Anaconda3\\lib\\site-packages\\pmdarima\\arima\\_validation.py:62: UserWarning: m (52) set for non-seasonal fit. Setting to 0\n",
      "  warnings.warn(\"m (%i) set for non-seasonal fit. Setting to 0\" % m)\n",
      "C:\\ProgramData\\Anaconda3\\lib\\site-packages\\pmdarima\\arima\\_validation.py:62: UserWarning: m (52) set for non-seasonal fit. Setting to 0\n",
      "  warnings.warn(\"m (%i) set for non-seasonal fit. Setting to 0\" % m)\n",
      "C:\\ProgramData\\Anaconda3\\lib\\site-packages\\pmdarima\\arima\\_validation.py:62: UserWarning: m (52) set for non-seasonal fit. Setting to 0\n",
      "  warnings.warn(\"m (%i) set for non-seasonal fit. Setting to 0\" % m)\n",
      "C:\\ProgramData\\Anaconda3\\lib\\site-packages\\pmdarima\\arima\\_validation.py:62: UserWarning: m (52) set for non-seasonal fit. Setting to 0\n",
      "  warnings.warn(\"m (%i) set for non-seasonal fit. Setting to 0\" % m)\n",
      "C:\\ProgramData\\Anaconda3\\lib\\site-packages\\pmdarima\\arima\\_validation.py:62: UserWarning: m (52) set for non-seasonal fit. Setting to 0\n",
      "  warnings.warn(\"m (%i) set for non-seasonal fit. Setting to 0\" % m)\n",
      "C:\\ProgramData\\Anaconda3\\lib\\site-packages\\pmdarima\\arima\\_validation.py:62: UserWarning: m (52) set for non-seasonal fit. Setting to 0\n",
      "  warnings.warn(\"m (%i) set for non-seasonal fit. Setting to 0\" % m)\n",
      "C:\\ProgramData\\Anaconda3\\lib\\site-packages\\pmdarima\\arima\\_validation.py:62: UserWarning: m (52) set for non-seasonal fit. Setting to 0\n",
      "  warnings.warn(\"m (%i) set for non-seasonal fit. Setting to 0\" % m)\n",
      "C:\\ProgramData\\Anaconda3\\lib\\site-packages\\pmdarima\\arima\\_validation.py:62: UserWarning: m (52) set for non-seasonal fit. Setting to 0\n",
      "  warnings.warn(\"m (%i) set for non-seasonal fit. Setting to 0\" % m)\n",
      "C:\\ProgramData\\Anaconda3\\lib\\site-packages\\pmdarima\\arima\\_validation.py:62: UserWarning: m (52) set for non-seasonal fit. Setting to 0\n",
      "  warnings.warn(\"m (%i) set for non-seasonal fit. Setting to 0\" % m)\n"
     ]
    }
   ],
   "source": [
    "test_types = ['adf', 'kpss']\n",
    "### doar astea 2?\n",
    "\n",
    "for test in test_types:\n",
    "    ## if stepwise=False, it will take brute-force all combinations from 1-10 for p, q and P, Q => no need for more loops\n",
    "    max_p = 10\n",
    "    max_q = 10\n",
    "    max_P = 10\n",
    "    max_Q = 10\n",
    "    seasonality = False\n",
    "    d = 1\n",
    "    D = 1\n",
    "    if seasonality:\n",
    "        path = 'outputs/output_seasonal_{test}_({max_p},{d},{max_q})_s({max_P}, {D}, {max_Q}).txt'.format(test=test, max_p=max_p, d=d, max_q=max_q, max_P=max_P, D=D, max_Q=max_Q)\n",
    "    else:\n",
    "        path = 'outputs/output_{test}_({max_p},{d},{max_q}).txt'.format(test=test, max_p=max_p, d=d, max_q=max_q)\n",
    "    try_intervals(path, test, start_p=1, start_q=1, max_p=max_p, max_q=max_q, d=d, seasonality=seasonality, start_P=1, start_Q=1, max_P=max_P, max_Q=max_Q, D=D, trace=True, error_action='ignore', stepwise=False, n_fits=50, n_jobs=5, maxiter=400)"
   ],
   "metadata": {
    "collapsed": false,
    "pycharm": {
     "name": "#%%\n"
    }
   }
  },
  {
   "cell_type": "code",
   "execution_count": 12,
   "outputs": [
    {
     "name": "stderr",
     "output_type": "stream",
     "text": [
      "C:\\ProgramData\\Anaconda3\\lib\\site-packages\\pmdarima\\arima\\_validation.py:62: UserWarning: m (52) set for non-seasonal fit. Setting to 0\n",
      "  warnings.warn(\"m (%i) set for non-seasonal fit. Setting to 0\" % m)\n",
      "C:\\ProgramData\\Anaconda3\\lib\\site-packages\\pmdarima\\arima\\_validation.py:62: UserWarning: m (52) set for non-seasonal fit. Setting to 0\n",
      "  warnings.warn(\"m (%i) set for non-seasonal fit. Setting to 0\" % m)\n",
      "C:\\ProgramData\\Anaconda3\\lib\\site-packages\\pmdarima\\arima\\_validation.py:62: UserWarning: m (52) set for non-seasonal fit. Setting to 0\n",
      "  warnings.warn(\"m (%i) set for non-seasonal fit. Setting to 0\" % m)\n",
      "C:\\ProgramData\\Anaconda3\\lib\\site-packages\\pmdarima\\arima\\_validation.py:62: UserWarning: m (52) set for non-seasonal fit. Setting to 0\n",
      "  warnings.warn(\"m (%i) set for non-seasonal fit. Setting to 0\" % m)\n",
      "C:\\ProgramData\\Anaconda3\\lib\\site-packages\\pmdarima\\arima\\_validation.py:62: UserWarning: m (52) set for non-seasonal fit. Setting to 0\n",
      "  warnings.warn(\"m (%i) set for non-seasonal fit. Setting to 0\" % m)\n",
      "C:\\ProgramData\\Anaconda3\\lib\\site-packages\\pmdarima\\arima\\_validation.py:62: UserWarning: m (52) set for non-seasonal fit. Setting to 0\n",
      "  warnings.warn(\"m (%i) set for non-seasonal fit. Setting to 0\" % m)\n",
      "C:\\ProgramData\\Anaconda3\\lib\\site-packages\\pmdarima\\arima\\_validation.py:62: UserWarning: m (52) set for non-seasonal fit. Setting to 0\n",
      "  warnings.warn(\"m (%i) set for non-seasonal fit. Setting to 0\" % m)\n",
      "C:\\ProgramData\\Anaconda3\\lib\\site-packages\\pmdarima\\arima\\_validation.py:62: UserWarning: m (52) set for non-seasonal fit. Setting to 0\n",
      "  warnings.warn(\"m (%i) set for non-seasonal fit. Setting to 0\" % m)\n",
      "C:\\ProgramData\\Anaconda3\\lib\\site-packages\\pmdarima\\arima\\_validation.py:62: UserWarning: m (52) set for non-seasonal fit. Setting to 0\n",
      "  warnings.warn(\"m (%i) set for non-seasonal fit. Setting to 0\" % m)\n",
      "C:\\ProgramData\\Anaconda3\\lib\\site-packages\\pmdarima\\arima\\_validation.py:62: UserWarning: m (52) set for non-seasonal fit. Setting to 0\n",
      "  warnings.warn(\"m (%i) set for non-seasonal fit. Setting to 0\" % m)\n"
     ]
    }
   ],
   "source": [
    "#example\n",
    "model = auto_arima(y=DF[GROUND_TRUTH_COLUMN][begin:end], start_p=5, start_q=5,\n",
    "                   # test='adf',\n",
    "                   max_p=12, max_q=12,\n",
    "                   seasonal=seasonality,\n",
    "                   m=52,\n",
    "                   d=0,\n",
    "                   start_P=0,\n",
    "                   max_P=10,\n",
    "                   start_Q=1,\n",
    "                   max_Q=10,\n",
    "                   D=None,\n",
    "                   trace=True,\n",
    "                   error_action='ignore',\n",
    "                   suppress_warnings=True,\n",
    "                   stepwise=False,\n",
    "                   n_fits=50,\n",
    "                   n_jobs=5,\n",
    "                   maxiter=400)"
   ],
   "metadata": {
    "collapsed": false,
    "pycharm": {
     "name": "#%%\n"
    }
   }
  }
 ],
 "metadata": {
  "kernelspec": {
   "display_name": "Python 3",
   "language": "python",
   "name": "python3"
  },
  "language_info": {
   "codemirror_mode": {
    "name": "ipython",
    "version": 2
   },
   "file_extension": ".py",
   "mimetype": "text/x-python",
   "name": "python",
   "nbconvert_exporter": "python",
   "pygments_lexer": "ipython2",
   "version": "2.7.6"
  }
 },
 "nbformat": 4,
 "nbformat_minor": 0
}