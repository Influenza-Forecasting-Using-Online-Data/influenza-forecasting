{
 "cells": [
  {
   "cell_type": "code",
   "execution_count": 2,
   "metadata": {
    "collapsed": true
   },
   "outputs": [],
   "source": [
    "import pmdarima.arima\n",
    "from pmdarima.arima import auto_arima\n",
    "\n",
    "import matplotlib.pyplot as plt\n",
    "import pandas as pd\n",
    "import seaborn as sns\n",
    "from statsmodels.tsa.statespace.sarimax import SARIMAX\n",
    "\n",
    "from data.utils import get_week_range_df, to_week_range\n",
    "from models.ar_model import ARModelSpecification, create_ar_models_report\n",
    "from models.persistence_model import create_persistence\n",
    "\n",
    "# Global set-up\n",
    "pd.options.mode.chained_assignment = None  # default='warn'\n",
    "plt.rcParams['axes.grid'] = True\n",
    "sns.set_style(\"whitegrid\")\n",
    "\n",
    "# Global set-up\n",
    "pd.options.mode.chained_assignment = None  # default='warn'\n",
    "plt.rcParams['axes.grid'] = True\n",
    "sns.set_style(\"whitegrid\")"
   ]
  },
  {
   "cell_type": "code",
   "execution_count": 3,
   "outputs": [],
   "source": [
    "GROUND_TRUTH_COLUMN = 'Disease Rate'\n",
    "BASELINE_SHIFT = 1\n",
    "PERSISTENCE_COL_NAME = 'Persistence'\n",
    "LAGS = 20"
   ],
   "metadata": {
    "collapsed": false,
    "pycharm": {
     "name": "#%%\n"
    }
   }
  },
  {
   "cell_type": "code",
   "execution_count": 4,
   "outputs": [],
   "source": [
    "DF = get_week_range_df('week range')\n",
    "DF = create_persistence(DF, BASELINE_SHIFT, persistance_col_name=PERSISTENCE_COL_NAME)"
   ],
   "metadata": {
    "collapsed": false,
    "pycharm": {
     "name": "#%%\n"
    }
   }
  },
  {
   "cell_type": "code",
   "execution_count": 5,
   "outputs": [],
   "source": [
    "train_interval = (to_week_range(2004, 2), to_week_range(2008, 52))\n",
    "test_interval = [to_week_range(2009, 1), to_week_range(2009, 52)]"
   ],
   "metadata": {
    "collapsed": false,
    "pycharm": {
     "name": "#%%\n"
    }
   }
  },
  {
   "cell_type": "code",
   "execution_count": 24,
   "outputs": [
    {
     "name": "stderr",
     "output_type": "stream",
     "text": [
      "E:\\Anaconda3\\lib\\site-packages\\pmdarima\\arima\\_validation.py:62: UserWarning: m (52) set for non-seasonal fit. Setting to 0\n",
      "  warnings.warn(\"m (%i) set for non-seasonal fit. Setting to 0\" % m)\n"
     ]
    },
    {
     "name": "stdout",
     "output_type": "stream",
     "text": [
      " ARIMA(0,0,0)(0,0,0)[0]             : AIC=740.730, Time=0.01 sec\n",
      " ARIMA(0,0,1)(0,0,0)[0]             : AIC=inf, Time=0.11 sec\n",
      " ARIMA(0,0,2)(0,0,0)[0]             : AIC=557.451, Time=0.07 sec\n",
      " ARIMA(0,0,3)(0,0,0)[0]             : AIC=518.226, Time=0.11 sec\n",
      " ARIMA(0,0,4)(0,0,0)[0]             : AIC=500.330, Time=0.20 sec\n",
      " ARIMA(0,0,5)(0,0,0)[0]             : AIC=inf, Time=0.42 sec\n",
      " ARIMA(1,0,0)(0,0,0)[0]             : AIC=424.039, Time=0.04 sec\n",
      " ARIMA(1,0,1)(0,0,0)[0]             : AIC=425.597, Time=0.05 sec\n",
      " ARIMA(1,0,2)(0,0,0)[0]             : AIC=425.067, Time=0.08 sec\n",
      " ARIMA(1,0,3)(0,0,0)[0]             : AIC=417.019, Time=0.11 sec\n",
      " ARIMA(1,0,4)(0,0,0)[0]             : AIC=417.858, Time=0.15 sec\n",
      " ARIMA(2,0,0)(0,0,0)[0]             : AIC=425.720, Time=0.04 sec\n",
      " ARIMA(2,0,1)(0,0,0)[0]             : AIC=inf, Time=0.17 sec\n",
      " ARIMA(2,0,2)(0,0,0)[0]             : AIC=inf, Time=0.16 sec\n",
      " ARIMA(2,0,3)(0,0,0)[0]             : AIC=418.087, Time=0.15 sec\n",
      " ARIMA(3,0,0)(0,0,0)[0]             : AIC=426.439, Time=0.06 sec\n",
      " ARIMA(3,0,1)(0,0,0)[0]             : AIC=inf, Time=0.36 sec\n",
      " ARIMA(3,0,2)(0,0,0)[0]             : AIC=inf, Time=0.26 sec\n",
      " ARIMA(4,0,0)(0,0,0)[0]             : AIC=419.406, Time=0.10 sec\n",
      " ARIMA(4,0,1)(0,0,0)[0]             : AIC=420.386, Time=0.26 sec\n",
      " ARIMA(5,0,0)(0,0,0)[0]             : AIC=420.747, Time=0.21 sec\n",
      "\n",
      "Best model:  ARIMA(1,0,3)(0,0,0)[0]          \n",
      "Total fit time: 3.137 seconds\n"
     ]
    }
   ],
   "source": [
    "model = auto_arima(y=DF[GROUND_TRUTH_COLUMN][to_week_range(2004,2):to_week_range(2005,52)], start_p=5, start_q=5,\n",
    "                   # test='adf',\n",
    "                   max_p=12, max_q=12,\n",
    "                   seasonal=False,\n",
    "                   m=52,\n",
    "                   d=0,\n",
    "                   start_P=0,\n",
    "                   max_P=10,\n",
    "                   start_Q=1,\n",
    "                   max_Q=10,\n",
    "                   D=None,\n",
    "                   trace=True,\n",
    "                   error_action='ignore',\n",
    "                   suppress_warnings=True,\n",
    "                   stepwise=False,\n",
    "                   n_fits=50,\n",
    "                   n_jobs=5,\n",
    "                   maxiter=400)"
   ],
   "metadata": {
    "collapsed": false,
    "pycharm": {
     "name": "#%%\n"
    }
   }
  },
  {
   "cell_type": "code",
   "source": [
    "model"
   ],
   "metadata": {
    "collapsed": false,
    "pycharm": {
     "name": "#%%\n"
    }
   },
   "execution_count": 27,
   "outputs": [
    {
     "data": {
      "text/plain": "ARIMA(maxiter=400, order=(1, 0, 3), scoring_args={}, suppress_warnings=True,\n      with_intercept=False)"
     },
     "execution_count": 27,
     "metadata": {},
     "output_type": "execute_result"
    }
   ]
  },
  {
   "cell_type": "code",
   "execution_count": null,
   "outputs": [],
   "source": [],
   "metadata": {
    "collapsed": false,
    "pycharm": {
     "name": "#%%\n"
    }
   }
  }
 ],
 "metadata": {
  "kernelspec": {
   "display_name": "Python 3",
   "language": "python",
   "name": "python3"
  },
  "language_info": {
   "codemirror_mode": {
    "name": "ipython",
    "version": 2
   },
   "file_extension": ".py",
   "mimetype": "text/x-python",
   "name": "python",
   "nbconvert_exporter": "python",
   "pygments_lexer": "ipython2",
   "version": "2.7.6"
  }
 },
 "nbformat": 4,
 "nbformat_minor": 0
}